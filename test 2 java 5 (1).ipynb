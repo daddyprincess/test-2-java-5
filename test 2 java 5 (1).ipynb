{
 "cells": [
  {
   "cell_type": "markdown",
   "id": "a85f46e1-e09b-48ad-8444-01b7271692d2",
   "metadata": {},
   "source": [
    "## 5.data types"
   ]
  },
  {
   "cell_type": "code",
   "execution_count": null,
   "id": "41591826-397c-4bc8-83cd-375ee55f3d1c",
   "metadata": {},
   "outputs": [],
   "source": [
    "public class VariableDeclaration {\n",
    "    public static void main(String[] args) {\n",
    "        int age = 25;\n",
    "        double salary = 50000.50;\n",
    "        String name = \"John Doe\";\n",
    "\n",
    "        System.out.println(\"Name: \" + name);\n",
    "        System.out.println(\"Age: \" + age);\n",
    "        System.out.println(\"Salary: \" + salary);\n",
    "    }\n",
    "}\n"
   ]
  }
 ],
 "metadata": {
  "kernelspec": {
   "display_name": "Python 3 (ipykernel)",
   "language": "python",
   "name": "python3"
  },
  "language_info": {
   "codemirror_mode": {
    "name": "ipython",
    "version": 3
   },
   "file_extension": ".py",
   "mimetype": "text/x-python",
   "name": "python",
   "nbconvert_exporter": "python",
   "pygments_lexer": "ipython3",
   "version": "3.10.8"
  }
 },
 "nbformat": 4,
 "nbformat_minor": 5
}
